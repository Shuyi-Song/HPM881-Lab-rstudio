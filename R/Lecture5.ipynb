{
  "nbformat": 4,
  "nbformat_minor": 0,
  "metadata": {
    "colab": {
      "provenance": [],
      "authorship_tag": "ABX9TyNi9ZlXxbFhKRriQy/pv3S2",
      "include_colab_link": true
    },
    "kernelspec": {
      "name": "ir",
      "display_name": "R"
    },
    "language_info": {
      "name": "R"
    }
  },
  "cells": [
    {
      "cell_type": "markdown",
      "metadata": {
        "id": "view-in-github",
        "colab_type": "text"
      },
      "source": [
        "<a href=\"https://colab.research.google.com/github/Shuyi-Song/HPM881-Lab-rstudio/blob/main/R/Lecture5.ipynb\" target=\"_parent\"><img src=\"https://colab.research.google.com/assets/colab-badge.svg\" alt=\"Open In Colab\"/></a>"
      ]
    },
    {
      "cell_type": "markdown",
      "source": [
        "\n",
        "# This file is the lab for HPM 881 Unit 5 -- Interpretation\n",
        "# Interpretation of racial categories using 3 different approaches:\n",
        " 1) unadjusted\n",
        " 2) residual direct effect\n",
        " 3) IOM approach\n",
        "##Created: Dec. 1, 2020\n",
        "Read in the data"
      ],
      "metadata": {
        "id": "3Ynph6ijHakQ"
      }
    },
    {
      "cell_type": "code",
      "source": [
        "# Read in the data\n",
        "library(haven)\n",
        "lab5 <-read.csv('https://raw.githubusercontent.com/Shuyi-Song/HPM-881-Lab/main/Data/lecture5.csv?token=GHSAT0AAAAAACJSNPPFQILPISWUQ6YLKCPOZJ6OV5A')\n"
      ],
      "metadata": {
        "id": "R7eAx0TrHjRI"
      },
      "execution_count": 5,
      "outputs": []
    },
    {
      "cell_type": "markdown",
      "source": [
        "# 1. Get to know your data\n",
        "\n",
        "Drop observations with <=0 years of education and with missing/invalid responses to RTHLTH53."
      ],
      "metadata": {
        "id": "jDB1_OGBH8S5"
      }
    },
    {
      "cell_type": "code",
      "source": [
        "data <- subset(lab5 , EDUCYR > 0 & RTHLTH53 > 0)"
      ],
      "metadata": {
        "id": "nLgFfBDDH9pL"
      },
      "execution_count": 6,
      "outputs": []
    },
    {
      "cell_type": "markdown",
      "source": [
        "\n",
        "Describe the variables of interest\n"
      ],
      "metadata": {
        "id": "yYDTmI1eIVuu"
      }
    },
    {
      "cell_type": "code",
      "source": [
        "summary(data[c(\"DVTEXP18\", \"RACEV1X\", \"AGELAST\", \"SEX\", \"INSCOV18\", \"EDUCYR\", \"RTHLTH53\")])\n"
      ],
      "metadata": {
        "id": "pcNffXeeR_AA",
        "outputId": "2bb8e89e-cca1-4353-9d4c-a5fcef9469c0",
        "colab": {
          "base_uri": "https://localhost:8080/",
          "height": 267
        }
      },
      "execution_count": 7,
      "outputs": [
        {
          "output_type": "display_data",
          "data": {
            "text/plain": [
              "    DVTEXP18         RACEV1X             AGELAST          SEX           \n",
              " Min.   :    0.0   Length:26471       Min.   : 5.00   Length:26471      \n",
              " 1st Qu.:    0.0   Class :character   1st Qu.:25.00   Class :character  \n",
              " Median :    0.0   Mode  :character   Median :43.00   Mode  :character  \n",
              " Mean   :  388.6                      Mean   :43.26                     \n",
              " 3rd Qu.:  253.0                      3rd Qu.:61.00                     \n",
              " Max.   :81000.0                      Max.   :85.00                     \n",
              "   INSCOV18            EDUCYR            RTHLTH53        \n",
              " Length:26471       Length:26471       Length:26471      \n",
              " Class :character   Class :character   Class :character  \n",
              " Mode  :character   Mode  :character   Mode  :character  \n",
              "                                                         \n",
              "                                                         \n",
              "                                                         "
            ]
          },
          "metadata": {}
        }
      ]
    },
    {
      "cell_type": "markdown",
      "source": [
        "Save the cleaned data"
      ],
      "metadata": {
        "id": "JXVfYlEWSRRp"
      }
    },
    {
      "cell_type": "code",
      "source": [
        "saveRDS(data, \"lecture5_lab.rds\")\n",
        "\n"
      ],
      "metadata": {
        "id": "1cNabELvSRdO"
      },
      "execution_count": 8,
      "outputs": []
    },
    {
      "cell_type": "markdown",
      "source": [
        "# 2. Summarize dental expenditures by race categories in RACEV1X.\n",
        "Using dplyr package\n"
      ],
      "metadata": {
        "id": "aEGviU_aSR7G"
      }
    },
    {
      "cell_type": "code",
      "source": [
        "library(dplyr)\n",
        "\n",
        "data %>%\n",
        "  group_by(RACEV1X) %>%\n",
        "  summarise(mean_DVTEXP18 = mean(DVTEXP18, na.rm = TRUE))\n"
      ],
      "metadata": {
        "id": "jwn7Ai5KSSE7",
        "outputId": "2e9c9bef-e0af-4521-ab64-f15756c174a9",
        "colab": {
          "base_uri": "https://localhost:8080/",
          "height": 255
        }
      },
      "execution_count": 9,
      "outputs": [
        {
          "output_type": "display_data",
          "data": {
            "text/html": [
              "<table class=\"dataframe\">\n",
              "<caption>A tibble: 5 × 2</caption>\n",
              "<thead>\n",
              "\t<tr><th scope=col>RACEV1X</th><th scope=col>mean_DVTEXP18</th></tr>\n",
              "\t<tr><th scope=col>&lt;chr&gt;</th><th scope=col>&lt;dbl&gt;</th></tr>\n",
              "</thead>\n",
              "<tbody>\n",
              "\t<tr><td>1 WHITE - NO OTHER RACE REPORTED         </td><td>414.4850</td></tr>\n",
              "\t<tr><td>2 BLACK - NO OTHER RACE REPORTED         </td><td>265.4115</td></tr>\n",
              "\t<tr><td>3 AMER INDIAN/ALASKA NATIVE-NO OTHER RACE</td><td>320.4954</td></tr>\n",
              "\t<tr><td>4 ASIAN/NATV HAWAIIAN/PACFC ISL-NO OTH   </td><td>415.3884</td></tr>\n",
              "\t<tr><td>6 MULTIPLE RACES REPORTED                </td><td>361.6175</td></tr>\n",
              "</tbody>\n",
              "</table>\n"
            ],
            "text/markdown": "\nA tibble: 5 × 2\n\n| RACEV1X &lt;chr&gt; | mean_DVTEXP18 &lt;dbl&gt; |\n|---|---|\n| 1 WHITE - NO OTHER RACE REPORTED          | 414.4850 |\n| 2 BLACK - NO OTHER RACE REPORTED          | 265.4115 |\n| 3 AMER INDIAN/ALASKA NATIVE-NO OTHER RACE | 320.4954 |\n| 4 ASIAN/NATV HAWAIIAN/PACFC ISL-NO OTH    | 415.3884 |\n| 6 MULTIPLE RACES REPORTED                 | 361.6175 |\n\n",
            "text/latex": "A tibble: 5 × 2\n\\begin{tabular}{ll}\n RACEV1X & mean\\_DVTEXP18\\\\\n <chr> & <dbl>\\\\\n\\hline\n\t 1 WHITE - NO OTHER RACE REPORTED          & 414.4850\\\\\n\t 2 BLACK - NO OTHER RACE REPORTED          & 265.4115\\\\\n\t 3 AMER INDIAN/ALASKA NATIVE-NO OTHER RACE & 320.4954\\\\\n\t 4 ASIAN/NATV HAWAIIAN/PACFC ISL-NO OTH    & 415.3884\\\\\n\t 6 MULTIPLE RACES REPORTED                 & 361.6175\\\\\n\\end{tabular}\n",
            "text/plain": [
              "  RACEV1X                                   mean_DVTEXP18\n",
              "1 1 WHITE - NO OTHER RACE REPORTED          414.4850     \n",
              "2 2 BLACK - NO OTHER RACE REPORTED          265.4115     \n",
              "3 3 AMER INDIAN/ALASKA NATIVE-NO OTHER RACE 320.4954     \n",
              "4 4 ASIAN/NATV HAWAIIAN/PACFC ISL-NO OTH    415.3884     \n",
              "5 6 MULTIPLE RACES REPORTED                 361.6175     "
            ]
          },
          "metadata": {}
        }
      ]
    },
    {
      "cell_type": "markdown",
      "source": [
        "# 3. Create a bar graph showing the ratio of mean dental expenditures for each race category in RACEV1X relative to White.\n",
        " For example, if mean dental expenditures for White people = $150 and mean dental expenditures for Black people = $100,\n",
        "the Black/White ratio would = 0.67.\n",
        "\n",
        "Using ggplot2 package"
      ],
      "metadata": {
        "id": "F0X3Y0_wSSNj"
      }
    },
    {
      "cell_type": "markdown",
      "source": [
        "# 4. Unadjusted means approach: Using t-tests, test for differences in mean dental expenditures between each race category in RACEV1X and White.\n",
        "\n",
        "Loop over values of RACEV1X"
      ],
      "metadata": {
        "id": "JOVvDB36SSdh"
      }
    },
    {
      "cell_type": "markdown",
      "source": [
        "\n",
        "# 5. Residual direct effect: Regression DVTEXP18 on RACEV1X, AGELAST, EDUCYR, SEX, INSCOV, and RTHLTH53 using White as the reference category.\n",
        "Interpret any statistically significant differences in the RACEV1X categories. Be precise in your language.\n",
        "\n",
        "Using lm function\n",
        "\n"
      ],
      "metadata": {
        "id": "q0RhkvZASSvT"
      }
    },
    {
      "cell_type": "markdown",
      "source": [
        "\n",
        "# 6. IOM approach: Which variables would you include in the “Clinical Appropriateness and Need” category?\n",
        "Which variables would you include in the “Operation of health care systems and legal and regulatory environment” category?\n",
        "*NOTE: We do not have measures of patient preferences.\n"
      ],
      "metadata": {
        "id": "opbexvdyTvz8"
      }
    },
    {
      "cell_type": "code",
      "source": [
        "\n",
        "clinical_vars <- c(\"AGELAST\", \"SEX\", \"RTHLTH53\")\n",
        "operation_vars <- c(\"EDUCYR\", \"INSCOV\")\n"
      ],
      "metadata": {
        "id": "7KxoTTwdUFkD"
      },
      "execution_count": 13,
      "outputs": []
    },
    {
      "cell_type": "markdown",
      "source": [
        "Clinical appropriateness and need: AGELAST SEX RTHLTH53 Operation: EDUCYR INSCOV18\n"
      ],
      "metadata": {
        "id": "5P_CiRhyULJM"
      }
    },
    {
      "cell_type": "code",
      "source": [
        "\n",
        "clinical_vars <- c(\"AGELAST\", \"SEX\", \"RTHLTH53\")\n",
        "operation_vars <- c(\"EDUCYR\", \"INSCOV18\")"
      ],
      "metadata": {
        "id": "lS1UE5c8UPUa"
      },
      "execution_count": 14,
      "outputs": []
    }
  ]
}